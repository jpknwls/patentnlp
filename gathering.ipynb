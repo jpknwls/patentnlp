{
 "cells": [
  {
   "cell_type": "code",
   "execution_count": 1,
   "metadata": {},
   "outputs": [],
   "source": [
    "import numpy as np\n",
    "import pandas as pd\n",
    "import zipfile\n",
    "import re\n",
    "from tinydb import TinyDB, Query\n",
    "import random\n",
    "import urllib as urllib2\n",
    "import nltk\n",
    "from nltk.tokenize import ToktokTokenizer\n",
    "from bs4 import BeautifulSoup\n",
    "import wget, os\n",
    "import time"
   ]
  },
  {
   "cell_type": "markdown",
   "metadata": {},
   "source": [
    "## database"
   ]
  },
  {
   "cell_type": "code",
   "execution_count": 12,
   "metadata": {},
   "outputs": [],
   "source": [
    "content_db = TinyDB('../database/db.json')"
   ]
  },
  {
   "cell_type": "markdown",
   "metadata": {},
   "source": [
    "## downloading txt files"
   ]
  },
  {
   "cell_type": "code",
   "execution_count": 13,
   "metadata": {},
   "outputs": [],
   "source": [
    "def get_links():\n",
    "    url = 'https://www.google.com/googlebooks/uspto-patents-grants-text.html'\n",
    "    resp = urllib2.request.urlopen(url)\n",
    "    soup = BeautifulSoup(resp.read())\n",
    "    links = [a['href'] for a in soup.find_all('a', href=True)]\n",
    "    return links[733:]\n",
    "zips = get_links()"
   ]
  },
  {
   "cell_type": "code",
   "execution_count": 14,
   "metadata": {},
   "outputs": [],
   "source": [
    "def extract_zip(z, zip_path, txt_path):\n",
    "    zip_dir = zip_path + z[-10:]\n",
    "    \n",
    "    try:\n",
    "        filename = wget.download(z, out = zip_dir)\n",
    "    except:\n",
    "        return None\n",
    "    \n",
    "    zip_ref = zipfile.ZipFile(zip_dir, 'r')\n",
    "    zip_ref.extractall(txt_path)\n",
    "    zip_ref.close() \n",
    "    return zip_dir"
   ]
  },
  {
   "cell_type": "code",
   "execution_count": 15,
   "metadata": {},
   "outputs": [],
   "source": [
    "def get_txt_content(filepath, approved):\n",
    "    # returns raw text and relevant metadata\n",
    "    def approve_line(line, approved):\n",
    "        if not line[2].isupper(): return True\n",
    "        for a in approved:\n",
    "            if a in line:\n",
    "                return True\n",
    "        return False\n",
    "\n",
    "    contents = []\n",
    "    for line in open(filepath, 'rb'):\n",
    "        if approve_line(str(line), approved): \n",
    "            contents.append(str(line.strip()))\n",
    "    return contents"
   ]
  },
  {
   "cell_type": "code",
   "execution_count": 27,
   "metadata": {},
   "outputs": [],
   "source": [
    "def preprocess_doc(docs):\n",
    "    new_docs = []\n",
    "    toktok = ToktokTokenizer()\n",
    "    to_remove = [r'FIG. [1-9]', 'PAL',  'PNO', 'b\\'', '\\'']\n",
    "    \n",
    "    stopword_list = nltk.corpus.stopwords.words('english')\n",
    "    \n",
    "    stopword_list.append('said')\n",
    "    stopword_list.append('b')\n",
    "    stopword_list.remove('no')\n",
    "    stopword_list.remove('not')\n",
    "    \n",
    "    for doc in docs:\n",
    "        content = doc['content']\n",
    "        for x in to_remove: content = re.sub(x, '', content)\n",
    "        for x in to_remove: doc['id'] = re.sub(x, '', doc['id'])\n",
    "        for x in to_remove: doc['title'] = re.sub(x, '', doc['title'])\n",
    "        # tokenize\n",
    "        tokens = toktok.tokenize(content)\n",
    "        # save only alpha\n",
    "        words = [str.lower(w) for w in tokens if w.isalpha()]\n",
    "        filtered_tokens = [token for token in words if token not in stopword_list]\n",
    "        #append to new_docs\n",
    "        doc['content'] = filtered_tokens\n",
    "        new_docs.append(doc)\n",
    "    return new_docs"
   ]
  },
  {
   "cell_type": "code",
   "execution_count": 128,
   "metadata": {},
   "outputs": [],
   "source": [
    "def get_patents_from_txt(contents): \n",
    "    \n",
    "    def replace_text(text, to_remove):\n",
    "        for x in to_remove: text = re.sub(x, '', text)\n",
    "        return str(text).strip()\n",
    "        \n",
    "    patents = [] \n",
    "    patent = dict()\n",
    "    patent['citations'] = []\n",
    "    curr_patent_txt = []\n",
    "    for content in contents:\n",
    "        \n",
    "        if 'WKU' in content:\n",
    "            if patent:\n",
    "                patent['content'] = ' '.join(curr_patent_txt)\n",
    "                patents.append(patent)\n",
    "                patent = dict()\n",
    "                patent['citations'] = []\n",
    "                curr_patent_txt = []\n",
    "                #remove last number\n",
    "            content = content.replace('WKU  ', '')\n",
    "            content = [c for c in content.strip() if c.isdigit() or c.isupper()]\n",
    "            if len(content) > 7: content = content[:8]\n",
    "            if content[1] == '0': content.pop(1)\n",
    "            if content[0] == '0': content.pop(0)\n",
    "            patent['id'] = ''.join(content)\n",
    "            #patent['id'] = content.replace('WKU  ', '')\n",
    "            continue\n",
    "        if 'TTL' in content:\n",
    "            patent['title'] = content.replace('TTL  ', '')\n",
    "            \n",
    "            continue\n",
    "        if 'PNO' in content:\n",
    "            #strip white space, strip letters, cut to max 7 (take off end if over 7)\n",
    "            content = [c for c in content.strip() if c.isdigit()] \n",
    "            if content[0] == 0: content = content[1:]\n",
    "            if len(content) > 7: content = content[:8]\n",
    "            patent['citations'].append(''.join(content))\n",
    "        else:\n",
    "            curr_patent_txt.append(content)\n",
    "    return patents"
   ]
  },
  {
   "cell_type": "code",
   "execution_count": 129,
   "metadata": {},
   "outputs": [],
   "source": [
    "def get_relevant_docs(contents, min_size):\n",
    "    # returns docs with enough text for use\n",
    "    return [c for c in contents if len(c[\"content\"]) > min_size]"
   ]
  },
  {
   "cell_type": "code",
   "execution_count": 130,
   "metadata": {},
   "outputs": [],
   "source": [
    "def store_docs(docs): \n",
    "# stores documents in database\n",
    "    for doc in docs:\n",
    "        doc['id'] = doc['id'][:-1]\n",
    "        content_db.insert(doc)"
   ]
  },
  {
   "cell_type": "code",
   "execution_count": 131,
   "metadata": {},
   "outputs": [],
   "source": [
    "#NOTE: add 'PNO' to get citations"
   ]
  },
  {
   "cell_type": "code",
   "execution_count": 132,
   "metadata": {
    "scrolled": true
   },
   "outputs": [
    {
     "name": "stdout",
     "output_type": "stream",
     "text": [
      "115.19050598144531\n"
     ]
    }
   ],
   "source": [
    "zip_path = 'patent_zips/'\n",
    "txt_path = 'patent_txt/'\n",
    "txt_cutoff = 5\n",
    "approved = ['TTL', 'PAL', 'FIG', 'PNO', 'WKU']\n",
    "completed_patents = []\n",
    "min_size = 1000\n",
    "\n",
    "start = time.time()\n",
    "for z in zips[txt_cutoff:txt_cutoff+1]:\n",
    "    #get zip file from url\n",
    "    zip_dir = extract_zip(z, zip_path, txt_path)\n",
    "    if not zip_dir: continue\n",
    "    os.remove(zip_dir)\n",
    "    contents = get_txt_content(txt_path+os.listdir(txt_path)[0], approved)\n",
    "    patents = get_patents_from_txt(contents)\n",
    "    _patents = get_relevant_docs(patents, min_size)\n",
    "    processed_patents = preprocess_doc(_patents)\n",
    "    completed_patents.extend(processed_patents)\n",
    "    os.remove(txt_path+os.listdir(txt_path)[0])\n",
    "    \n",
    "end = time.time()\n",
    "print(end - start)"
   ]
  },
  {
   "cell_type": "code",
   "execution_count": 135,
   "metadata": {},
   "outputs": [],
   "source": [
    "#store_docs(completed_patents)\n",
    "np.save('../data/patent_tiny',completed_patents)"
   ]
  },
  {
   "cell_type": "markdown",
   "metadata": {},
   "source": [
    "#### example patent"
   ]
  },
  {
   "cell_type": "code",
   "execution_count": 134,
   "metadata": {
    "scrolled": false
   },
   "outputs": [
    {
     "name": "stdout",
     "output_type": "stream",
     "text": [
      "{'citations': ['5168748', '5295391', '5408866', '5426938', '5467641', '5483935', '5507176', '5637788', '5765539', '5817925', '6044314'], 'id': '6182502', 'title': 'Diagnostic module for testing the tightness of a container', 'content': ['diagnosis', 'module', 'leak', 'testing', 'container', 'tank', 'ventilation', 'system', 'motor', 'vehicle', 'reference', 'leak', 'volume', 'flows', 'matched', 'permissible', 'leakage', 'reference', 'leak', 'constituted', 'number', 'diaphragms', 'disposed', 'series', 'flow', 'direction', 'diaphragms', 'throttle', 'opening', 'advantage', 'diagnosis', 'module', 'lies', 'large', 'diameter', 'throttle', 'openings', 'less', 'susceptible', 'malfunction', 'permitted', 'leakage', 'hole', 'significantly', 'smaller', 'particular', 'tank', 'ventilation', 'system', 'motor', 'functionality', 'thus', 'important', 'leak', 'test', 'containers', 'example', 'chemical', 'industry', 'process', 'addition', 'however', 'also', 'necessary', 'automotive', 'engineering', 'leak', 'test', 'containers', 'particular', 'tank', 'example', 'countries', 'functionality', 'tank', 'ventilation', 'systems', 'vehicles', 'must', 'tested', 'starting', 'model', 'year', 'leaks', 'mm', 'must', 'detectable', 'starting', 'model', 'year', 'even', 'leaks', 'mm', 'size', 'must', 'order', 'detect', 'leaks', 'diagnosis', 'module', 'installed', 'leak', 'test', 'carried', 'time', 'electric', 'compressed', 'air', 'pump', 'reversing', 'valve', 'embodied', 'example', 'solenoid', 'valve', 'connect', 'valve', 'end', 'container', 'monitored', 'tank', 'ventilation', 'system', 'de', 'first', 'switched', 'position', 'reversing', 'valve', 'shuts', 'compressed', 'air', 'supply', 'compressed', 'air', 'pump', 'ventilates', 'connection', 'line', 'reversing', 'valve', 'container', 'second', 'switched', 'position', 'connects', 'compressed', 'air', 'pump', 'container', 'connection', 'line', 'simultaneously', 'shutting', 'reference', 'leak', 'comprised', 'throttle', 'bore', 'defined', 'bore', 'diameter', 'disposed', 'parallel', 'reversing', 'valve', 'connects', 'compressed', 'air', 'pump', 'connection', 'line', 'reversing', 'valve', 'measuring', 'unit', 'connected', 'electrical', 'connection', 'compressed', 'air', 'pump', 'measures', 'current', 'consumption', 'compressed', 'air', 'pump', 'measurement', 'volume', 'flow', 'supplied', 'compressed', 'air', 'determined', 'one', 'hand', 'compressed', 'air', 'pump', 'acts', 'container', 'second', 'switched', 'position', 'reversing', 'valve', 'hand', 'compressed', 'air', 'pump', 'acts', 'reference', 'leak', 'first', 'switched', 'position', 'reversing', 'comparison', 'two', 'values', 'makes', 'possible', 'tell', 'whether', 'leak', 'still', 'permissible', 'size', 'exceeded', 'temperature', 'largely', 'precluded', 'since', 'comparison', 'two', 'measurement', 'values', 'made', 'relation', 'reference', 'measurement', 'external', 'influences', 'not', 'change', 'decisively', 'however', 'reference', 'leak', 'extremely', 'important', 'correct', 'measurement', 'since', 'defines', 'threshold', 'limit', 'identification', 'must', 'therefore', 'assured', 'cross', 'section', 'reference', 'leak', 'not', 'change', 'passage', 'time', 'example', 'not', 'become', 'smaller', 'due', 'since', 'leak', 'testing', 'described', 'beginning', 'increasingly', 'accommodated', 'smaller', 'leaks', 'throttle', 'bore', 'reference', 'leak', 'known', 'diagnosis', 'module', 'must', 'likewise', 'made', 'small', 'result', 'susceptibility', 'reference', 'leak', 'soiling', 'thereby', 'change', 'opening', 'cross', 'section', 'increases', 'significantly', 'measurements', 'leakproofness', 'no', 'longer', 'prior', 'art', 'connection', 'number', 'diaphragms', 'series', 'throttle', 'opening', 'volume', 'flow', 'permitted', 'reference', 'measurement', 'adjusted', 'throttle', 'openings', 'relatively', 'large', 'cross', 'section', 'contrast', 'throttle', 'bores', 'small', 'bore', 'diameters', 'relatively', 'insensitive', 'soiling', 'deposits', 'impurities', 'therefore', 'addition', 'filters', 'usually', 'inserted', 'reference', 'leak', 'known', 'diagnosis', 'module', 'technical', 'manufacturing', 'reasons', 'large', 'cross', 'section', 'throttle', 'openings', 'easier', 'produce', 'small', 'ones', 'rugged', 'stamping', 'tools', 'influences', 'stamping', 'tolerances', 'noncritical', 'influences', 'various', 'deflashing', 'qualities', 'since', 'much', 'less', 'consequence', 'significantly', 'greater', 'opening', 'cross', 'invention', 'equipped', 'three', 'diaphragms', 'disposed', 'series', 'whose', 'throttle', 'openings', 'diameter', 'mm', 'permits', 'flow', 'supply', 'volume', 'flow', 'per', 'unit', 'time', 'single', 'throttle', 'bore', 'diameter', 'four', 'diaphragms', 'disposed', 'series', 'size', 'diameter', 'throttle', 'openings', 'flow', 'quantity', 'reduced', 'future', 'requirements', 'discover', 'extremely', 'small', 'leakages', 'container', 'also', 'fulfilled', 'diagnosis', 'module', 'according', 'invention', 'without', 'diagnosis', 'module', 'measuring', 'imprecisely', 'failing', 'completely', 'due', 'changes', 'reference', 'leak', 'possible', 'means', 'measures', 'taken', 'conjunction', 'exemplary', 'embodiments', 'represented', 'par', 'block', 'circuit', 'diagram', 'diagnosis', 'module', 'tank', 'ventilation', 'system', 'motor', 'vehicle', 'par', 'show', 'longitudinal', 'section', 'reference', 'leak', 'diagnosis', 'module', 'according', 'according', 'first', 'second', 'exemplary', 'embodiment', 'par', 'cross', 'section', 'third', 'exemplary', 'embodiment', 'reference', 'leak', 'perspective', 'par', 'diagnosis', 'module', 'depicted', 'block', 'circuit', 'diagram', 'used', 'leak', 'test', 'tank', 'ventilation', 'system', 'motor', 'vehicle', 'particular', 'exemplary', 'embodiment', 'arbitrary', 'known', 'described', 'example', 'de', 'addition', 'tank', 'tank', 'ventilation', 'system', 'includes', 'adsorption', 'filter', 'connected', 'tank', 'way', 'tank', 'connection', 'line', 'ventilation', 'line', 'connected', 'environment', 'well', 'tank', 'ventilation', 'valve', 'one', 'end', 'connected', 'adsorption', 'filter', 'way', 'valve', 'line', 'end', 'connected', 'intake', 'tube', 'internal', 'combustion', 'engine', 'way', 'another', 'valve', 'result', 'evaporation', 'hydrocarbons', 'produced', 'tank', 'adsorbed', 'adsorption', 'order', 'regenerate', 'adsorption', 'filter', 'tank', 'ventilation', 'valve', 'opened', 'due', 'vacuum', 'prevailing', 'intake', 'tube', 'air', 'atmosphere', 'sucked', 'adsorption', 'filter', 'means', 'hydrocarbons', 'adsorbed', 'adsorption', 'filter', 'sucked', 'intake', 'tube', 'supplied', 'internal', 'combustion', 'part', 'adsorption', 'filter', 'known', 'tank', 'ventilation', 'system', 'represented', 'labeled', 'adsorption', 'diagnosis', 'module', 'electric', 'compressed', 'air', 'pump', 'connected', 'voltage', 'source', 'reversing', 'valve', 'embodied', 'valve', 'reference', 'leak', 'well', 'measurement', 'circuit', 'measuring', 'current', 'consumption', 'compressed', 'air', 'pump', 'measure', 'air', 'volume', 'flow', 'supplied', 'compressed', 'air', 'pump', 'reversing', 'valve', 'connects', 'compressed', 'air', 'line', 'leads', 'away', 'compressed', 'air', 'pump', 'ventilation', 'line', 'adsorption', 'filter', 'reversing', 'valve', 'two', 'switched', 'positions', 'embodied', 'normal', 'position', 'reversing', 'valve', 'shown', 'compressed', 'air', 'line', 'closed', 'ventilation', 'line', 'ventilated', 'working', 'position', 'reversing', 'valve', 'compressed', 'air', 'line', 'connected', 'ventilation', 'line', 'ventilation', 'opening', 'reversing', 'valve', 'reference', 'leak', 'disposed', 'bypass', 'line', 'connects', 'compressed', 'air', 'line', 'ventilation', 'line', 'bypassing', 'reversing', 'valve', 'order', 'determine', 'current', 'consumption', 'compressed', 'air', 'pump', 'switched', 'measurement', 'circuit', 'measurement', 'resistor', 'connected', 'emitter', 'branch', 'transistor', 'decreasing', 'voltage', 'measurement', 'resistor', 'detected', 'means', 'voltage', 'meter', 'measure', 'current', 'consumption', 'therefore', 'supply', 'volume', 'flow', 'compressed', 'air', 'pump', 'reversing', 'valve', 'one', 'hand', 'acts', 'tank', 'ventilation', 'system', 'compressed', 'air', 'hand', 'acts', 'reference', 'leak', 'compressed', 'comparison', 'air', 'flow', 'supplied', 'compressed', 'air', 'pump', 'two', 'switched', 'positions', 'reversing', 'valve', 'proportional', 'measurement', 'values', 'read', 'voltage', 'meter', 'permits', 'determination', 'made', 'existence', 'leak', 'tank', 'ventilation', 'measurement', 'value', 'read', 'voltage', 'meter', 'working', 'position', 'reversing', 'valve', 'greater', 'measurement', 'value', 'read', 'normal', 'position', 'reversing', 'valve', 'tank', 'ventilation', 'system', 'leak', 'greater', 'permissible', 'leakage', 'determined', 'reference', 'leak', 'hence', 'based', 'diagnosis', 'negative', 'conclusion', 'drawn', 'regarding', 'case', 'positive', 'conclusion', 'drawn', 'tank', 'ventilation', 'system', 'reference', 'leak', 'sized', 'accordance', 'permissible', 'leakage', 'tank', 'ventilation', 'leak', 'mm', 'diameter', 'detected', 'tank', 'ventilation', 'system', 'reference', 'leak', 'must', 'correspondingly', 'order', 'not', 'also', 'provide', 'extremely', 'small', 'throttle', 'bore', 'reference', 'leak', 'corresponds', 'permissible', 'leak', 'reference', 'leak', 'shown', 'enlarged', 'depiction', 'composed', 'number', 'diaphragms', 'disposed', 'series', 'flow', 'direction', 'throttle', 'opening', 'diaphragms', 'embodied', 'disposed', 'spaced', 'apart', 'one', 'another', 'sleeve', 'simplified', 'assembly', 'reference', 'leak', 'diaphragms', 'also', 'embodied', 'shown', 'adjoin', 'one', 'another', 'axial', 'direction', 'wherein', 'cup', 'height', 'determines', 'axial', 'spacing', 'diaphragms', 'one', 'another', 'inlet', 'air', 'flow', 'embodied', 'sleeve', 'first', 'diaphragm', 'outlet', 'air', 'flow', 'embodied', 'third', 'diaphragm', 'inlet', 'outlet', 'symbolically', 'indicated', 'arrows', 'throttle', 'openings', 'diaphragms', 'disposed', 'opening', 'axes', 'point', 'flow', 'direction', 'aligned', 'one', 'exemplary', 'embodiment', 'opening', 'axes', 'throttle', 'openings', 'likewise', 'point', 'flow', 'direction', 'offset', 'one', 'another', 'throttle', 'openings', 'diaphragms', 'diameter', 'mm', 'example', 'flow', 'per', 'unit', 'time', 'produced', 'corresponds', 'flow', 'reference', 'leak', 'single', 'throttle', 'bore', 'diameter', 'means', 'series', 'connection', 'three', 'diaphragms', 'order', 'produce', 'relatively', 'small', 'reference', 'leak', 'throttle', 'openings', 'made', 'quite', 'large', 'throttle', 'openings', 'large', 'cross', 'sections', 'significantly', 'much', 'less', 'sensitive', 'soiling', 'deposits', 'throttle', 'openings', 'small', 'cross', 'also', 'less', 'critical', 'regard', 'manufacture', 'tolerances', 'stamping', 'deflashing', 'par', 'reference', 'leak', 'depicted', 'perspective', 'cross', 'section', 'functions', 'according', 'basic', 'principle', 'three', 'diaphragms', 'disposed', 'series', 'turn', 'larger', 'diameter', 'throttle', 'opening', 'one', 'corresponds', 'maximally', 'permitted', 'leak', 'tank', 'ventilation', 'diaphragms', 'embodied', 'extrusion', 'profiled', 'part', 'axially', 'inserted', 'cylindrical', 'housing', 'housing', 'naturally', 'also', 'embodied', 'two', 'end', 'faces', 'housing', 'closed', 'covers', 'end', 'cover', 'seen', 'diaphragms', 'extend', 'housing', 'axis', 'housing', 'walls', 'disposed', 'right', 'angles', 'one', 'fourth', 'wall', 'likewise', 'aligned', 'right', 'angles', 'diaphragms', 'likewise', 'embodied', 'extrusion', 'profiled', 'part', 'extends', 'housing', 'axis', 'housing', 'wall', 'used', 'divide', 'inlet', 'chamber', 'outflow', 'chamber', 'chambers', 'respectively', 'embodied', 'first', 'diaphragm', 'last', 'diaphragm', 'vicinity', 'two', 'chambers', 'housing', 'connection', 'openings', 'respectively', 'integrating', 'throttle', 'diaphragm', 'bypass', 'exemplary', 'embodiments', 'connection', 'opening', 'inlet', 'chamber', 'constitute', 'inlet', 'outflow', 'chamber', 'connection', 'opening', 'constitute', 'outlet', 'reference', 'leak', 'connection', 'openings', 'laid', 'axes', 'inlet', 'outlet', 'approximately', 'right', 'angles', 'inclined', 'slightly', 'acute', 'angle', 'axis', 'extrusion', 'profiled', 'part', 'disposition', 'throttle', 'openings', 'corresponds', 'approximately', 'disposition', 'throttle', 'openings', 'opening', 'axes', 'not', 'aligned', 'one', 'another', 'not', 'lie', 'arc', 'concentric', 'housing', 'axis', 'offset', 'parallel', 'radial', 'function', 'reference', 'leak', 'identical', 'previously', 'described', 'reference', 'leak', 'according', 'understood', 'variants', 'embodiments', 'thereof', 'possible', 'within', 'spirit', 'scope', 'invention', 'latter', 'defined', 'appended', 'system', 'motor', 'vehicle', 'comprising', 'reference', 'leak', 'provides', 'flow', 'volume', 'flow', 'matched', 'permissible', 'leakage', 'container', 'reference', 'leak', 'constituted', 'number', 'diaphragms', 'disposed', 'series', 'flow', 'direction', 'throttle', 'opening', 'openings', 'disposed', 'diaphragms', 'opening', 'axes', 'point', 'flow', 'direction', 'aligned', 'one', 'openings', 'diaphragms', 'disposed', 'opening', 'axes', 'point', 'flow', 'direction', 'offset', 'one', 'another', 'lateral', 'flow', 'embodied', 'disposed', 'spaced', 'axially', 'ap', 'rt', 'one', 'another', 'sleeve', 'inlet', 'outlet', 'respectively', 'provided', 'volume', 'flow', 'opposite', 'end', 'faces', 'sleeve', 'embodied', 'disposed', 'spaced', 'axially', 'apart', 'one', 'another', 'sleeve', 'inlet', 'outlet', 'respectively', 'provided', 'volume', 'flow', 'opposite', 'end', 'faces', 'sleeve', 'alignment', 'line', 'axes', 'throttle', 'openings', 'preferably', 'run', 'angles', 'one', 'alignment', 'line', 'axes', 'throttle', 'openings', 'arcshaped', 'preferably', 'semicircular', 'run', 'angles', 'one', 'embodied', 'extrusion', 'profiled', 'part', 'inserted', 'housing', 'housing', 'inlet', 'outlet', 'axes', 'inlet', 'outlet', 'aligned', 'approximately', 'right', 'angles', 'axis', 'extrusion', 'profiled', 'part', 'connected', 'outlet', 'compressed', 'air', 'pump', 'whose', 'operating', 'parameters', 'current', 'consumption', 'used', 'measure', 'permissible', 'leakage']}\n"
     ]
    }
   ],
   "source": [
    "print(completed_patents[300])"
   ]
  },
  {
   "cell_type": "markdown",
   "metadata": {},
   "source": [
    "## data exploration"
   ]
  },
  {
   "cell_type": "code",
   "execution_count": 145,
   "metadata": {},
   "outputs": [],
   "source": [
    "from textblob import TextBlob\n",
    "from textblob.sentiments import NaiveBayesAnalyzer"
   ]
  },
  {
   "cell_type": "code",
   "execution_count": 164,
   "metadata": {},
   "outputs": [
    {
     "data": {
      "image/png": "[encoded data removed]",
      "text/plain": [
       "<Figure size 432x288 with 1 Axes>"
      ]
     },
     "metadata": {
      "needs_background": "light"
     },
     "output_type": "display_data"
    }
   ],
   "source": [
    "corpus = []\n",
    "for doc in completed_patents:\n",
    "    corpus.extend(doc['content'])  \n",
    "\n",
    "freq = nltk.FreqDist(corpus)\n",
    "freq.plot(40, cumulative=False)"
   ]
  },
  {
   "cell_type": "code",
   "execution_count": null,
   "metadata": {},
   "outputs": [],
   "source": []
  }
 ],
 "metadata": {
  "kernelspec": {
   "display_name": "Python 3",
   "language": "python",
   "name": "python3"
  },
  "language_info": {
   "codemirror_mode": {
    "name": "ipython",
    "version": 3
   },
   "file_extension": ".py",
   "mimetype": "text/x-python",
   "name": "python",
   "nbconvert_exporter": "python",
   "pygments_lexer": "ipython3",
   "version": "3.7.2"
  }
 },
 "nbformat": 4,
 "nbformat_minor": 2
}
